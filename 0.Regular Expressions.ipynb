{
 "cells": [
  {
   "cell_type": "code",
   "execution_count": 1,
   "metadata": {},
   "outputs": [
    {
     "data": {
      "text/plain": [
       "['abcMATCHxyz', 'define456', '789sth', '379tut']"
      ]
     },
     "execution_count": 1,
     "metadata": {},
     "output_type": "execute_result"
    }
   ],
   "source": [
    "import re\n",
    "\n",
    "mylist=[\"abc123xyz\",\"define456\",\"789sth\",\"379tut\"]\n",
    "\n",
    "[re.sub(\"123\",\"MATCH\",elem) for elem in mylist]\n",
    "\n",
    "\n"
   ]
  },
  {
   "cell_type": "code",
   "execution_count": 2,
   "metadata": {},
   "outputs": [
    {
     "data": {
      "text/plain": [
       "['abcMATCHMATCHMATCHxyz',\n",
       " 'defineMATCHMATCHMATCH',\n",
       " 'MATCHMATCHMATCHsth',\n",
       " 'MATCHMATCHMATCHtut']"
      ]
     },
     "execution_count": 2,
     "metadata": {},
     "output_type": "execute_result"
    }
   ],
   "source": [
    "mylist=[\"abc123xyz\",\"define456\",\"789sth\",\"379tut\"]\n",
    "\n",
    "[re.sub(\"\\\\d\",\"MATCH\",elem) for elem in mylist]\n",
    "\n"
   ]
  },
  {
   "cell_type": "code",
   "execution_count": 3,
   "metadata": {},
   "outputs": [
    {
     "data": {
      "text/plain": [
       "['abcMATCHxyz', 'defineMATCH', 'MATCHsth', 'MATCHtut']"
      ]
     },
     "execution_count": 3,
     "metadata": {},
     "output_type": "execute_result"
    }
   ],
   "source": [
    "mylist=[\"abc123xyz\",\"define456\",\"789sth\",\"379tut\"]\n",
    "\n",
    "[re.sub(\"\\\\d\\\\d\\\\d\",\"MATCH\",elem) for elem in mylist]\n",
    "\n",
    "\n"
   ]
  },
  {
   "cell_type": "code",
   "execution_count": 4,
   "metadata": {},
   "outputs": [
    {
     "data": {
      "text/plain": [
       "['abc123xyz', 'define426', 'MATCHsth', 'MATCHtut']"
      ]
     },
     "execution_count": 4,
     "metadata": {},
     "output_type": "execute_result"
    }
   ],
   "source": [
    "mylist=[\"abc123xyz\",\"define426\",\"789sth\",\"379tut\"]\n",
    "[re.sub(\"\\\\d\\\\d9\",\"MATCH\",elem) for elem in mylist]\n",
    "\n",
    "\n",
    "\n"
   ]
  },
  {
   "cell_type": "code",
   "execution_count": 5,
   "metadata": {},
   "outputs": [
    {
     "data": {
      "text/plain": [
       "['MATCHMATCHMATCHMATCH',\n",
       " 'MATCHMATCHMATCHMATCH',\n",
       " 'MATCHMATCHMATCHMATCHMATCHMATCHMATCHMATCH',\n",
       " 'MATCHMATCHMATCH']"
      ]
     },
     "execution_count": 5,
     "metadata": {},
     "output_type": "execute_result"
    }
   ],
   "source": [
    "# 2 : . means any single character, for symbol . use \\\\. \n",
    "\n",
    "mylist=[\"ab@c\",\"123#\",\"$qwe.123\",\"...\"]\n",
    "\n",
    "[re.sub(\".\",\"MATCH\",elem) for elem in mylist]\n",
    "\n",
    "\n",
    "\n"
   ]
  },
  {
   "cell_type": "code",
   "execution_count": 6,
   "metadata": {},
   "outputs": [
    {
     "data": {
      "text/plain": [
       "['ab@c', '123#', '$qweMATCH123', 'MATCHMATCHMATCH']"
      ]
     },
     "execution_count": 6,
     "metadata": {},
     "output_type": "execute_result"
    }
   ],
   "source": [
    "[re.sub(\"\\\\.\",\"MATCH\",elem) for elem in mylist]"
   ]
  },
  {
   "cell_type": "code",
   "execution_count": 8,
   "metadata": {},
   "outputs": [],
   "source": [
    "#exercise : substitute first two members only with a single MATCHs\n",
    "\n",
    "mylist=[\"896.\",\"?Q+.\",\"abc1\"]\n",
    "\n",
    "# [\"Match\",\"Match\",\"abc1\"]\n"
   ]
  },
  {
   "cell_type": "code",
   "execution_count": 9,
   "metadata": {},
   "outputs": [
    {
     "data": {
      "text/plain": [
       "['MATCH', 'MATCH', 'abc1']"
      ]
     },
     "execution_count": 9,
     "metadata": {},
     "output_type": "execute_result"
    }
   ],
   "source": [
    "[re.sub(\"...\\\\.\",\"MATCH\",elem) for elem in mylist]"
   ]
  },
  {
   "cell_type": "code",
   "execution_count": 14,
   "metadata": {},
   "outputs": [
    {
     "data": {
      "text/plain": [
       "['MATCHabc', 'MATCHabc', 'abcMATCHMATCHMATCH']"
      ]
     },
     "execution_count": 14,
     "metadata": {},
     "output_type": "execute_result"
    }
   ],
   "source": [
    "# 3 : replacing multiple characters at once\n",
    "\n",
    "mylist=[\"<abc\",\"#abc\",\"abc<#%\"]\n",
    "\n",
    "[re.sub(\"[#%<]\",\"MATCH\",elem) for elem in mylist]\n",
    "\n",
    "\n",
    "\n"
   ]
  },
  {
   "cell_type": "code",
   "execution_count": 16,
   "metadata": {},
   "outputs": [
    {
     "data": {
      "text/plain": [
       "['<abMATCHc', '#abc', 'abcMATCH', 'sdfhMATCH']"
      ]
     },
     "execution_count": 16,
     "metadata": {},
     "output_type": "execute_result"
    }
   ],
   "source": [
    "mylist=[\"<ab%#<c\",\"#abc\",\"abc<#%\",\"sdfh#%<\"]\n",
    "\n",
    "[re.sub(\"[#%<][#%<][#%<]\",\"MATCH\",elem) for elem in mylist]\n",
    "\n"
   ]
  },
  {
   "cell_type": "code",
   "execution_count": 17,
   "metadata": {},
   "outputs": [
    {
     "data": {
      "text/plain": [
       "['MATCHabc', 'MATCHMATCHabc', 'abcMATCH']"
      ]
     },
     "execution_count": 17,
     "metadata": {},
     "output_type": "execute_result"
    }
   ],
   "source": [
    "# 4 : excluding a pattern with metacharacter ^\n",
    "\n",
    "mylist=[\"<abc\",\"#1abc\",\"abc%\"]\n",
    "\n",
    "[re.sub(\"[^abc]\",\"MATCH\",elem) for elem in mylist]\n",
    "\n"
   ]
  },
  {
   "cell_type": "code",
   "execution_count": 19,
   "metadata": {},
   "outputs": [
    {
     "data": {
      "text/plain": [
       "['MATCHabc', 'MATCHdef', 'GhiMATCH']"
      ]
     },
     "execution_count": 19,
     "metadata": {},
     "output_type": "execute_result"
    }
   ],
   "source": [
    "# 5 : character ranges with -\n",
    "\n",
    "mylist=[\"<abc\",\"#def\",\"Ghi%\"]\n",
    "\n",
    "[re.sub(\"[^a-zA-Z]\",\"MATCH\",elem) for elem in mylist]\n",
    "\n",
    "\n",
    "\n",
    "# \"MATCHabc\", \"MATCHdef\",\"MATCHhiMATCH\"\n",
    "\n"
   ]
  },
  {
   "cell_type": "code",
   "execution_count": 20,
   "metadata": {},
   "outputs": [
    {
     "data": {
      "text/plain": [
       "['<MATCHMATCHMATCH', '#MATCHMATCHMATCH', 'GMATCHMATCH%']"
      ]
     },
     "execution_count": 20,
     "metadata": {},
     "output_type": "execute_result"
    }
   ],
   "source": [
    "[re.sub(\"[a-z]\",\"MATCH\",elem) for elem in mylist]"
   ]
  },
  {
   "cell_type": "code",
   "execution_count": null,
   "metadata": {},
   "outputs": [],
   "source": [
    "#exercise:\n",
    "myvec=[\"Ana\",\"Bob\",\"Cpc\",\"aax\",\"bby\",\"ccz\"]\n",
    "\n",
    "# Match  Ana,Bob,Cpc\t\n",
    "# Skip\taax,bby,ccz\n",
    "\n"
   ]
  },
  {
   "cell_type": "code",
   "execution_count": null,
   "metadata": {},
   "outputs": [],
   "source": [
    "[re.sub(\"[A-Z][a-z][a-z]\",\"MATCH\",elem) for elem in myvec]\n",
    "\n"
   ]
  },
  {
   "cell_type": "code",
   "execution_count": 21,
   "metadata": {},
   "outputs": [
    {
     "data": {
      "text/plain": [
       "['abcMATCHxyz', 'defineMATCH', 'MATCHsth', 'MATCHtut6']"
      ]
     },
     "execution_count": 21,
     "metadata": {},
     "output_type": "execute_result"
    }
   ],
   "source": [
    "# 6 : more compact way for repetition\n",
    "\n",
    "myvec=[\"abc123xyz\",\"define456\",\"789sth\",\"379tut6\"]\n",
    "\n",
    "[re.sub(\"\\\\d\\\\d\\\\d\",\"MATCH\",elem) for elem in myvec]\n",
    "\n",
    "\n",
    "\n"
   ]
  },
  {
   "cell_type": "code",
   "execution_count": 22,
   "metadata": {},
   "outputs": [
    {
     "data": {
      "text/plain": [
       "['abcMATCHxyMATCHzMATCH', 'defMATCHineMATCH', 'MATCHsth', 'MATCHtut6']"
      ]
     },
     "execution_count": 22,
     "metadata": {},
     "output_type": "execute_result"
    }
   ],
   "source": [
    "myvec=[\"abc123xy1234z12345\",\"def4567ine456\",\"789sth\",\"379tut6\"]\n",
    "[re.sub(\"\\\\d{3,5}\",\"MATCH\",elem) for elem in myvec]"
   ]
  },
  {
   "cell_type": "code",
   "execution_count": 23,
   "metadata": {},
   "outputs": [
    {
     "data": {
      "text/plain": [
       "['abcMATCHxyMATCHzMATCH', 'defMATCHineMATCH', 'MATCHsth', 'MATCHtut6']"
      ]
     },
     "execution_count": 23,
     "metadata": {},
     "output_type": "execute_result"
    }
   ],
   "source": [
    "[re.sub(\"\\\\d{3,}\",\"MATCH\",elem) for elem in myvec]"
   ]
  },
  {
   "cell_type": "code",
   "execution_count": 24,
   "metadata": {},
   "outputs": [
    {
     "data": {
      "text/plain": [
       "['abcMATCHxyMATCH4zMATCH45', 'defMATCH7ineMATCH', 'MATCHsth', 'MATCHtut6']"
      ]
     },
     "execution_count": 24,
     "metadata": {},
     "output_type": "execute_result"
    }
   ],
   "source": [
    "[re.sub(\"\\\\d{3}\",\"MATCH\",elem) for elem in myvec]"
   ]
  },
  {
   "cell_type": "code",
   "execution_count": 25,
   "metadata": {},
   "outputs": [
    {
     "data": {
      "text/plain": [
       "['abcMATCHxyMATCHzMATCH', 'defMATCHineMATCH', 'MATCHsth', 'MATCHtutMATCH']"
      ]
     },
     "execution_count": 25,
     "metadata": {},
     "output_type": "execute_result"
    }
   ],
   "source": [
    "[re.sub(\"\\\\d{1,}\",\"MATCH\",elem) for elem in myvec]"
   ]
  },
  {
   "cell_type": "code",
   "execution_count": 26,
   "metadata": {},
   "outputs": [],
   "source": [
    "# 7 : Kleene Plus and Kleene Star\n",
    "\n",
    "# * means it matches zero or more character\n",
    "# + means it matches atleast one or more character\n",
    "\n",
    "# people names\n",
    "people = [\"rori\", \"emmilia\", \"matteo\", \"mehmemt\",\n",
    "          \"filipe\",\n",
    "          \"anna\", \"tyler\",\n",
    "           \"rasmus\", \"mt jacob\", \"youna\", \"flora\", \n",
    "          \"adi mmt\"]\n",
    "\n"
   ]
  },
  {
   "cell_type": "code",
   "execution_count": 27,
   "metadata": {},
   "outputs": [
    {
     "data": {
      "text/plain": [
       "['rori',\n",
       " 'emmilia',\n",
       " 'maMATCHMATCHeo',\n",
       " 'mehmeMATCH',\n",
       " 'filipe',\n",
       " 'anna',\n",
       " 'MATCHyler',\n",
       " 'rasmus',\n",
       " 'MATCH jacob',\n",
       " 'youna',\n",
       " 'flora',\n",
       " 'adi MATCH']"
      ]
     },
     "execution_count": 27,
     "metadata": {},
     "output_type": "execute_result"
    }
   ],
   "source": [
    "# match m zero or more times, and t\n",
    "[re.sub(\"m*t\",\"MATCH\",elem) for elem in people]\n",
    "\n",
    "# t, mt, mmt, mmmt,mmmmt .....\n"
   ]
  },
  {
   "cell_type": "code",
   "execution_count": 28,
   "metadata": {},
   "outputs": [
    {
     "data": {
      "text/plain": [
       "['rori',\n",
       " 'emmilia',\n",
       " 'matteo',\n",
       " 'mehmeMATCH',\n",
       " 'filipe',\n",
       " 'anna',\n",
       " 'tyler',\n",
       " 'rasmus',\n",
       " 'MATCH jacob',\n",
       " 'youna',\n",
       " 'flora',\n",
       " 'adi MATCH']"
      ]
     },
     "execution_count": 28,
     "metadata": {},
     "output_type": "execute_result"
    }
   ],
   "source": [
    "people = [\"rori\", \"emmilia\", \"matteo\", \"mehmemt\", \"filipe\",\n",
    "          \"anna\", \"tyler\",\n",
    "           \"rasmus\", \"mt jacob\", \"youna\", \"flora\", \"adi mmt\"]\n",
    "[re.sub(\"m+t\",\"MATCH\",elem) for elem in people]\n",
    "\n",
    "# mt, mmt,mmmt,mmmmt......\n"
   ]
  },
  {
   "cell_type": "code",
   "execution_count": 29,
   "metadata": {},
   "outputs": [
    {
     "data": {
      "text/plain": [
       "['ac', 'MATCH', 'ab?c', '12ac']"
      ]
     },
     "execution_count": 29,
     "metadata": {},
     "output_type": "execute_result"
    }
   ],
   "source": [
    "# 8 : metacharacter or with ?\n",
    "\n",
    "myvec=[\"ac\",\"abc\",\"ab?c\",\"12ac\"]\n",
    "[re.sub(\"abc\",\"MATCH\",elem) for elem in myvec]\n",
    "\n",
    "\n"
   ]
  },
  {
   "cell_type": "code",
   "execution_count": 30,
   "metadata": {},
   "outputs": [
    {
     "data": {
      "text/plain": [
       "['MATCH', 'MATCH', 'ab?c', '12MATCH']"
      ]
     },
     "execution_count": 30,
     "metadata": {},
     "output_type": "execute_result"
    }
   ],
   "source": [
    "[re.sub(\"ab?c\",\"MATCH\",elem) for elem in myvec]"
   ]
  },
  {
   "cell_type": "code",
   "execution_count": 31,
   "metadata": {},
   "outputs": [
    {
     "data": {
      "text/plain": [
       "['MATCH', 'MATCH', 'MATCH', '12MATCH']"
      ]
     },
     "execution_count": 31,
     "metadata": {},
     "output_type": "execute_result"
    }
   ],
   "source": [
    "[re.sub(\"ab?\\\\??c\",\"MATCH\",elem) for elem in myvec]"
   ]
  },
  {
   "cell_type": "code",
   "execution_count": 32,
   "metadata": {},
   "outputs": [],
   "source": [
    "\n",
    "mylist=['12abcs','abc12324','abcas2332asba','1212abcas231221']\n"
   ]
  },
  {
   "cell_type": "code",
   "execution_count": 33,
   "metadata": {},
   "outputs": [
    {
     "data": {
      "text/plain": [
       "['MATCH', 'abc12324', 'abcasMATCH', 'MATCH231221']"
      ]
     },
     "execution_count": 33,
     "metadata": {},
     "output_type": "execute_result"
    }
   ],
   "source": [
    "[re.sub(\"\\\\d+[a-z]+\",\"MATCH\",elem) for elem in mylist]\n",
    "\n",
    "\n"
   ]
  },
  {
   "cell_type": "code",
   "execution_count": 34,
   "metadata": {},
   "outputs": [
    {
     "data": {
      "text/plain": [
       "['MATCH', 'abc12324', 'abcas2332asba', 'MATCH231221']"
      ]
     },
     "execution_count": 34,
     "metadata": {},
     "output_type": "execute_result"
    }
   ],
   "source": [
    "[re.sub(\"^\\d+[a-z]+\",\"MATCH\",elem) for elem in mylist]"
   ]
  },
  {
   "cell_type": "code",
   "execution_count": 35,
   "metadata": {},
   "outputs": [
    {
     "data": {
      "text/plain": [
       "['MATCH', 'abc12324', 'abcas2332asba', '1212abcas231221']"
      ]
     },
     "execution_count": 35,
     "metadata": {},
     "output_type": "execute_result"
    }
   ],
   "source": [
    "[re.sub(\"^\\d+[a-z]+$\",\"MATCH\",elem) for elem in mylist]"
   ]
  },
  {
   "cell_type": "code",
   "execution_count": 36,
   "metadata": {},
   "outputs": [
    {
     "data": {
      "text/plain": [
       "['MATCH', 'abc12324', 'abcasMATCH', '1212abcas231221']"
      ]
     },
     "execution_count": 36,
     "metadata": {},
     "output_type": "execute_result"
    }
   ],
   "source": [
    "[re.sub(\"\\d+[a-z]+$\",\"MATCH\",elem) for elem in mylist]"
   ]
  },
  {
   "cell_type": "code",
   "execution_count": 37,
   "metadata": {},
   "outputs": [],
   "source": [
    "# 10 : ^ start and $ end\n",
    "myvec=[\"file_record_transcript.pdf\",\n",
    "       \"file_07241999.pdf\",\n",
    "       \"file.pdf\",\n",
    "        \"fileabcpdf\",\n",
    "       \"fileabc.pdf\",\n",
    "       \"testfile_fake.pdf.tmp\",\n",
    "       \"file_record_transcript.pdff\",\n",
    "      \"test_file.pdf\",\n",
    "      \"file$%#.pdf\"]\n",
    "\n",
    "# matches here : 1,2,5\n",
    "# \"file_record_transcript.pdf\",\n",
    "#        \"file_07241999.pdf\",\n",
    "#  \"fileabc.pdf\",\n",
    "\n",
    "# \"^file.+\\\\.pdf$\"\n"
   ]
  },
  {
   "cell_type": "code",
   "execution_count": 39,
   "metadata": {},
   "outputs": [
    {
     "data": {
      "text/plain": [
       "['MATCH',\n",
       " 'MATCH',\n",
       " 'file.pdf',\n",
       " 'fileabcpdf',\n",
       " 'MATCH',\n",
       " 'testfile_fake.pdf.tmp',\n",
       " 'file_record_transcript.pdff',\n",
       " 'test_file.pdf',\n",
       " 'file$%#.pdf']"
      ]
     },
     "execution_count": 39,
     "metadata": {},
     "output_type": "execute_result"
    }
   ],
   "source": [
    "[re.sub(\"^file[_\\\\da-z]+\\\\.pdf$\",\"MATCH\",elem) for elem in myvec]"
   ]
  },
  {
   "cell_type": "code",
   "execution_count": 40,
   "metadata": {},
   "outputs": [
    {
     "data": {
      "text/plain": [
       "['MATCH', 'MATCH', 'abc', 'MATCH', 'MATCH']"
      ]
     },
     "execution_count": 40,
     "metadata": {},
     "output_type": "execute_result"
    }
   ],
   "source": [
    "# 11 : groups with ()\n",
    "\n",
    "a=[\"ac\",\"aQAc\",'abc','aQc','aAc']\n",
    "\n",
    "[re.sub('aQ?A?c','MATCH',elem) for elem in a]\n",
    "\n",
    "# 'aQ?A?c' : ac , aQc , aAc, aQAc"
   ]
  },
  {
   "cell_type": "code",
   "execution_count": 41,
   "metadata": {},
   "outputs": [
    {
     "data": {
      "text/plain": [
       "['MATCH', 'MATCH', 'abc', 'aQc', 'aAc']"
      ]
     },
     "execution_count": 41,
     "metadata": {},
     "output_type": "execute_result"
    }
   ],
   "source": [
    "[re.sub('a(QA)?c','MATCH',elem) for elem in a]\n",
    "\n",
    "# 'abc+' : abc , abcc, abccc, abcccc....\n",
    "# (abc)+ : abc , abcabc, abcabcabc.."
   ]
  },
  {
   "cell_type": "code",
   "execution_count": null,
   "metadata": {},
   "outputs": [],
   "source": []
  },
  {
   "cell_type": "markdown",
   "metadata": {},
   "source": [
    "## Extracting with findall"
   ]
  },
  {
   "cell_type": "code",
   "execution_count": 44,
   "metadata": {},
   "outputs": [],
   "source": [
    "mydata=['name:lalit, phone1:9920581396 , phone2:4563217890','name:john doe , contact:1234567890']"
   ]
  },
  {
   "cell_type": "code",
   "execution_count": 45,
   "metadata": {},
   "outputs": [
    {
     "data": {
      "text/plain": [
       "[['9920581396', '4563217890'], ['1234567890']]"
      ]
     },
     "execution_count": 45,
     "metadata": {},
     "output_type": "execute_result"
    }
   ],
   "source": [
    "[re.findall('\\\\d{10}',x) for x in mydata]"
   ]
  },
  {
   "cell_type": "code",
   "execution_count": null,
   "metadata": {},
   "outputs": [],
   "source": []
  }
 ],
 "metadata": {
  "kernelspec": {
   "display_name": "Python 3",
   "language": "python",
   "name": "python3"
  },
  "language_info": {
   "codemirror_mode": {
    "name": "ipython",
    "version": 3
   },
   "file_extension": ".py",
   "mimetype": "text/x-python",
   "name": "python",
   "nbconvert_exporter": "python",
   "pygments_lexer": "ipython3",
   "version": "3.8.8"
  }
 },
 "nbformat": 4,
 "nbformat_minor": 2
}
